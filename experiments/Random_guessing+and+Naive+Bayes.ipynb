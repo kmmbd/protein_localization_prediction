{
 "cells": [
  {
   "cell_type": "code",
   "execution_count": 24,
   "metadata": {},
   "outputs": [
    {
     "data": {
      "text/plain": [
       "'/home/olle/Documents/University Courses/Protein Prediction II/ppcs2-project-master/dataset'"
      ]
     },
     "execution_count": 24,
     "metadata": {},
     "output_type": "execute_result"
    }
   ],
   "source": [
    "import os\n",
    "import numpy as np\n",
    "import pandas as pd\n",
    "import os.path as osp\n",
    "import time\n",
    "from sklearn import preprocessing\n",
    "from sklearn.metrics import mean_squared_error, accuracy_score\n",
    "\n",
    "\n",
    "ROOT_DIR = '/home/olle/Documents/University Courses/Protein Prediction II/ppcs2-project-master/dataset'\n",
    "ROOT_DIR"
   ]
  },
  {
   "cell_type": "code",
   "execution_count": 4,
   "metadata": {},
   "outputs": [],
   "source": [
    "df = pd.read_csv(ROOT_DIR + '/subloc_k3_s5_151558356819203_no_id.csv')"
   ]
  },
  {
   "cell_type": "code",
   "execution_count": 8,
   "metadata": {},
   "outputs": [],
   "source": [
    "# transform labels to numerical\n",
    "y = df['label'].values\n",
    "le = preprocessing.LabelEncoder()\n",
    "le.fit(y)\n",
    "y = le.transform(y)"
   ]
  },
  {
   "cell_type": "code",
   "execution_count": 17,
   "metadata": {},
   "outputs": [],
   "source": [
    "#select the test percentage\n",
    "split_perc = 0.25\n",
    "y_test = y[0:int((len(y)-1)*split_perc)]\n"
   ]
  },
  {
   "cell_type": "code",
   "execution_count": 18,
   "metadata": {
    "collapsed": true
   },
   "outputs": [],
   "source": [
    "unique, counts = np.unique(y_test, return_counts=True)\n",
    "\n",
    "#computing uniformly (random guessing) class predictions\n",
    "n_samples = len(y_test)\n",
    "n_classes = len(unique)\n",
    "uniform_preds = np.random.randint(n_classes, size=n_samples)\n",
    "\n",
    "#computing class predictions using (i.e. class probs from data)\n",
    "class_probs = counts/n_samples\n",
    "naive_preds = np.random.choice(unique, size=n_samples, p=class_probs)"
   ]
  },
  {
   "cell_type": "code",
   "execution_count": 25,
   "metadata": {},
   "outputs": [
    {
     "name": "stdout",
     "output_type": "stream",
     "text": [
      "Acurracy of random guessing: {}\n",
      "0.043583535109\n",
      "Naive Bayes accuracy: {}\n",
      "0.237288135593\n"
     ]
    }
   ],
   "source": [
    "#calculate predictions\n",
    "print('Acurracy of random guessing: {}')\n",
    "print(accuracy_score(y_test, uniform_preds))\n",
    "print('Naive Bayes accuracy: {}' )\n",
    "print(accuracy_score(y_test, naive_preds))"
   ]
  }
 ],
 "metadata": {
  "kernelspec": {
   "display_name": "Python 3",
   "language": "python",
   "name": "python3"
  },
  "language_info": {
   "codemirror_mode": {
    "name": "ipython",
    "version": 3
   },
   "file_extension": ".py",
   "mimetype": "text/x-python",
   "name": "python",
   "nbconvert_exporter": "python",
   "pygments_lexer": "ipython3",
   "version": "3.6.3"
  }
 },
 "nbformat": 4,
 "nbformat_minor": 2
}
