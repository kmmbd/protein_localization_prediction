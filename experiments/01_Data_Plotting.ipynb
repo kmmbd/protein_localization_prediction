{
 "cells": [
  {
   "cell_type": "code",
   "execution_count": 111,
   "metadata": {},
   "outputs": [
    {
     "name": "stdout",
     "output_type": "stream",
     "text": [
      "The autoreload extension is already loaded. To reload it, use:\n",
      "  %reload_ext autoreload\n"
     ]
    }
   ],
   "source": [
    "import os\n",
    "import keras\n",
    "import sys\n",
    "import numpy as np\n",
    "import pandas as pd\n",
    "import os.path as osp\n",
    "import matplotlib.pyplot as plt\n",
    "\n",
    "from sklearn.model_selection import train_test_split\n",
    "from sklearn import preprocessing\n",
    "from sklearn.ensemble import RandomForestClassifier\n",
    "from sklearn.model_selection import StratifiedKFold\n",
    "from sklearn.metrics import mean_squared_error, accuracy_score\n",
    "from sklearn.externals import joblib\n",
    "from sklearn.preprocessing import Normalizer\n",
    "sys.path.append('C:/Users/Kaz Mahbub/ppcs2-project/imports')\n",
    "\n",
    "from parse_fasta import *\n",
    "from keras.models import Model, Sequential\n",
    "from keras.layers import Input, Dense, Dropout\n",
    "from keras.utils import to_categorical\n",
    "from keras.optimizers import Adam, SGD\n",
    "from keras.callbacks import ModelCheckpoint\n",
    "from keras.constraints import maxnorm\n",
    "\n",
    "# fix random seed for reproducibility\n",
    "seed = 7\n",
    "np.random.seed(seed)\n",
    "\n",
    "\n",
    "%load_ext autoreload\n",
    "%autoreload 2\n",
    "%matplotlib inline"
   ]
  },
  {
   "cell_type": "code",
   "execution_count": 112,
   "metadata": {
    "collapsed": true
   },
   "outputs": [],
   "source": [
    "def plot_bar(x, y, z, size1, size2, title, xlabel, ylabel, save_to=None, fmt='png'):\n",
    "    fig, ax = plt.subplots()\n",
    "    bar_width = 0.35\n",
    "    opacity = 0.8\n",
    "    y_pos = np.arange(len(x))\n",
    "    l1 = 'Before: ' + str(size1)\n",
    "    l2 = 'After: ' + str(size2)\n",
    "    rects1 = plt.bar(y_pos, z, bar_width, alpha = opacity, color = 'r', label = l1)\n",
    "    rects2 = plt.bar(y_pos+bar_width, y, bar_width, alpha = opacity, color = 'b', label = l2)\n",
    "    \n",
    "    #plt.bar(x, y, facecolor='b', alpha=0.5, width=0.8)\n",
    "    \n",
    "    plt.xticks(y_pos + bar_width, x, rotation = '65')\n",
    "    for spine in plt.gca().spines.values():\n",
    "        spine.set_visible(False)\n",
    "    plt.title(title.format(save_to))\n",
    "    plt.xlabel('Classes')\n",
    "    plt.ylabel('Frequency')\n",
    "    plt.legend()\n",
    "    \n",
    "    # Attach a text label above each bar displaying its height\n",
    "    \n",
    "    def autolabel(rects, gap,c):\n",
    "        for rect in rects:\n",
    "            height = rect.get_height()\n",
    "            ax.text(rect.get_x() + rect.get_width()/2, height - gap,\n",
    "                    str(int(height)),\n",
    "                    ha='center', va='bottom', fontsize=7, rotation = '65', color=c)\n",
    "    \n",
    "    autolabel(rects1, -0.2, 'red')\n",
    "    autolabel(rects2, -0.2, 'blue')\n",
    "    plt.tight_layout()\n",
    "    title = title + \".png\"\n",
    "    plt.savefig(title.format(save_to), format='png', dpi=1000)\n",
    "    plt.show()"
   ]
  },
  {
   "cell_type": "code",
   "execution_count": null,
   "metadata": {
    "collapsed": true
   },
   "outputs": [],
   "source": []
  },
  {
   "cell_type": "markdown",
   "metadata": {},
   "source": [
    "# Pre-process"
   ]
  },
  {
   "cell_type": "code",
   "execution_count": 113,
   "metadata": {},
   "outputs": [
    {
     "name": "stdout",
     "output_type": "stream",
     "text": [
      "(1673, 8002)\n"
     ]
    }
   ],
   "source": [
    "\n",
    "# Load data\n",
    "dataset_url = osp.join('..', 'dataset', 'subloc', 'eukaryota', 'subloc_k3_s5_eukaryota.1682.fa_1516057206692442.csv')\n",
    "df = pd.read_csv(dataset_url, sep=',')\n",
    "print(df.shape)"
   ]
  },
  {
   "cell_type": "code",
   "execution_count": 114,
   "metadata": {
    "collapsed": true
   },
   "outputs": [],
   "source": [
    "# unique labels\n",
    "labels = df.label.unique()\n",
    "#print(len(labels), labels)"
   ]
  },
  {
   "cell_type": "code",
   "execution_count": 115,
   "metadata": {},
   "outputs": [
    {
     "name": "stdout",
     "output_type": "stream",
     "text": [
      "1673\n"
     ]
    }
   ],
   "source": [
    "# transform labels to numerical values\n",
    "y = df['label'].values\n",
    "le = preprocessing.LabelEncoder()\n",
    "le.fit(y)\n",
    "y = le.transform(y)\n",
    "freq1 = df['label'].value_counts()\n",
    "size1 = df.shape[0]\n",
    "print(size1)\n",
    "#print(freq1)\n",
    "d1 = freq1.to_dict()\n",
    "#print(d1)"
   ]
  },
  {
   "cell_type": "code",
   "execution_count": 116,
   "metadata": {},
   "outputs": [
    {
     "name": "stdout",
     "output_type": "stream",
     "text": [
      "New data shape: (1654, 8002)\n"
     ]
    }
   ],
   "source": [
    "# remove datapoints belonging to classes with frequency less than threshold\n",
    "ths_cls = 10\n",
    "_, counts = np.unique(y, return_counts=True)\n",
    "mask = np.isin(y, np.where(counts >= ths_cls)[0])\n",
    "df = df[mask]\n",
    "print('New data shape: {}'.format(df.shape))"
   ]
  },
  {
   "cell_type": "code",
   "execution_count": 117,
   "metadata": {},
   "outputs": [
    {
     "name": "stdout",
     "output_type": "stream",
     "text": [
      "New data shape: (1511, 8002)\n",
      "1511\n"
     ]
    }
   ],
   "source": [
    "# remove datapoints where kmer frequency sum is less or equal to threshold\n",
    "ths_kmer = 0\n",
    "mask = np.sum(df.iloc[:, 2:].values, axis=1) > ths_kmer\n",
    "df = df[mask]\n",
    "print('New data shape: {}'.format(df.shape))\n",
    "\n",
    "size2 = df.shape[0]\n",
    "print(size2)"
   ]
  },
  {
   "cell_type": "code",
   "execution_count": 118,
   "metadata": {
    "collapsed": true
   },
   "outputs": [],
   "source": [
    "X = df.iloc[:, 2:].values\n",
    "num_classes = len(np.unique(y))\n",
    "X.shape, y.shape, num_classes\n",
    "freq2 = df['label'].value_counts()\n",
    "d2 = freq2.to_dict()\n",
    "d3 = dict()\n",
    "z_val = []\n",
    "# put the zero values (i.e. where the frequency is zero) in d3 and put the nonzero values in z_val\n",
    "for key,value in d1.items():\n",
    "    z_val.append(value)\n",
    "    if key not in d2:\n",
    "        d3[key] = 0\n"
   ]
  },
  {
   "cell_type": "markdown",
   "metadata": {},
   "source": [
    "<b>Plotting</b>"
   ]
  },
  {
   "cell_type": "code",
   "execution_count": 119,
   "metadata": {
    "scrolled": false
   },
   "outputs": [
    {
     "name": "stdout",
     "output_type": "stream",
     "text": [
      "['secreted', 'nucleus', 'cytoplasm', 'mitochondria', 'chloroplast', 'memmitochondria', 'memer', 'cellmembrane', 'memgolgi', 'plastid', 'memchloroplast', 'memvacuole', 'er', 'peroxisome', 'memnucleus', 'golgi', 'vacuole', 'memperoxisome']\n",
      "[503, 305, 211, 136, 122, 75, 61, 39, 16, 14, 10, 10, 9, 0, 0, 0, 0, 0]\n"
     ]
    },
    {
     "data": {
      "image/png": "[encoded data removed]",
      "text/plain": [
       "<matplotlib.figure.Figure at 0x15bba95d358>"
      ]
     },
     "metadata": {},
     "output_type": "display_data"
    }
   ],
   "source": [
    "merge = {**d2, **d3}\n",
    "x_val, y_val = [], []\n",
    "for key, value in merge.items():\n",
    "    x_val.append(key)\n",
    "    y_val.append(value)\n",
    "print(x_val)\n",
    "print(y_val)\n",
    "plot_bar(x_val, y_val, z_val, size1, size2, 'Eukaryota', 'Classes', 'Freq')"
   ]
  }
 ],
 "metadata": {
  "kernelspec": {
   "display_name": "Python 3",
   "language": "python",
   "name": "python3"
  },
  "language_info": {
   "codemirror_mode": {
    "name": "ipython",
    "version": 3
   },
   "file_extension": ".py",
   "mimetype": "text/x-python",
   "name": "python",
   "nbconvert_exporter": "python",
   "pygments_lexer": "ipython3",
   "version": "3.6.3"
  }
 },
 "nbformat": 4,
 "nbformat_minor": 2
}
