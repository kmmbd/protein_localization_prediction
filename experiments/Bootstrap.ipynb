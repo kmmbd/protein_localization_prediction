{
 "cells": [
  {
   "cell_type": "code",
   "execution_count": 1,
   "metadata": {},
   "outputs": [
    {
     "data": {
      "text/plain": [
       "SVC(C=1.0, cache_size=200, class_weight=None, coef0=0.0,\n",
       "  decision_function_shape='ovr', degree=3, gamma='auto', kernel='rbf',\n",
       "  max_iter=-1, probability=False, random_state=None, shrinking=True,\n",
       "  tol=0.001, verbose=False)"
      ]
     },
     "execution_count": 1,
     "metadata": {},
     "output_type": "execute_result"
    }
   ],
   "source": [
    "from sklearn import svm\n",
    "from sklearn import datasets\n",
    "import numpy as np\n",
    "import pandas as pd\n",
    "from sklearn.metrics import accuracy_score\n",
    "\n",
    "clf = svm.SVC()\n",
    "iris = datasets.load_iris()\n",
    "X, y = iris.data, iris.target\n",
    "clf.fit(X, y)"
   ]
  },
  {
   "cell_type": "markdown",
   "metadata": {},
   "source": [
    "We now we clf as a trained model. Below this model is saved, loaded and used to predict. This should mimic the use case for our loctree2 model."
   ]
  },
  {
   "cell_type": "code",
   "execution_count": 2,
   "metadata": {},
   "outputs": [
    {
     "data": {
      "text/plain": [
       "['filename.pkl']"
      ]
     },
     "execution_count": 2,
     "metadata": {},
     "output_type": "execute_result"
    }
   ],
   "source": [
    "from sklearn.externals import joblib\n",
    "joblib.dump(clf, 'filename.pkl')"
   ]
  },
  {
   "cell_type": "code",
   "execution_count": 16,
   "metadata": {
    "collapsed": true
   },
   "outputs": [],
   "source": [
    "clf = joblib.load('filename.pkl') \n"
   ]
  },
  {
   "cell_type": "markdown",
   "metadata": {},
   "source": [
    "Below is the bootstrap algorithm"
   ]
  },
  {
   "cell_type": "code",
   "execution_count": null,
   "metadata": {
    "collapsed": true
   },
   "outputs": [],
   "source": []
  },
  {
   "cell_type": "code",
   "execution_count": 162,
   "metadata": {
    "collapsed": true
   },
   "outputs": [],
   "source": []
  },
  {
   "cell_type": "markdown",
   "metadata": {},
   "source": [
    " Final bootstrap function to be integrated into workflow."
   ]
  },
  {
   "cell_type": "code",
   "execution_count": 14,
   "metadata": {
    "collapsed": true
   },
   "outputs": [],
   "source": [
    "def bootstrap(clf2 ,X_test ,y_test, b):\n",
    "    '''\n",
    "    :param X: Input test data\n",
    "    :param y: test labels\n",
    "    :param b: number of bootstrap samples to draw (100-1000)\n",
    "    :return: the standard deviation (std) aver all and per class over all bootstrap samples.\n",
    "    '''\n",
    "\n",
    "    #initilize lists to store elements\n",
    "    #b=100\n",
    "    \n",
    "    acc_list = list()\n",
    "    class_scores = []\n",
    "    classes = pd.unique(y_test)\n",
    "\n",
    "    # compute length of data set\n",
    "    n = len(X_test)\n",
    "\n",
    "    for i in range(b):\n",
    "\n",
    "        # generate random indices and draw sample\n",
    "        X_sub = X_test.sample(int(n*0.6))\n",
    "        y_sub = y_test[X_sub.index]\n",
    "\n",
    "        # compute accurace and append to list\n",
    "        acc = accuracy_score(y_sub, clf2.predict(X_sub))\n",
    "        acc_list.append(acc)\n",
    "\n",
    "        # create data frame for per class derivations\n",
    "        df = pd.DataFrame({'y_pred': clf2.predict(X_sub), 'y': y_sub})\n",
    "        \n",
    "        #get number of classes\n",
    "        \n",
    "        for j in classes:\n",
    "            class_scores.append(accuracy_score(df[df.y == j].y, df[df.y == j].y_pred))\n",
    "    \n",
    "    # compute standard deviation of accuracys over bootstrap samples\n",
    "    acc_array = np.array(acc_list)\n",
    "    sd_acc = np.std(acc_array)\n",
    "\n",
    "    # convert to numpy for easy calculation\n",
    "    per_class_acc = np.array(class_scores).reshape(b, len(classes))\n",
    "    per_class_std = np.std(np.array(class_scores).reshape(b, len(classes)), axis=0)\n",
    "\n",
    "    return sd_acc, per_class_std"
   ]
  },
  {
   "cell_type": "code",
   "execution_count": 15,
   "metadata": {},
   "outputs": [
    {
     "data": {
      "text/plain": [
       "(0.0078755756207419536, array([ 0.02407509,  0.02342254,  0.02360387]))"
      ]
     },
     "execution_count": 15,
     "metadata": {},
     "output_type": "execute_result"
    }
   ],
   "source": [
    "b=100\n",
    "bootstrap(clf,X,y,b)"
   ]
  }
 ],
 "metadata": {
  "kernelspec": {
   "display_name": "Python 3",
   "language": "python",
   "name": "python3"
  },
  "language_info": {
   "codemirror_mode": {
    "name": "ipython",
    "version": 3
   },
   "file_extension": ".py",
   "mimetype": "text/x-python",
   "name": "python",
   "nbconvert_exporter": "python",
   "pygments_lexer": "ipython3",
   "version": "3.6.3"
  }
 },
 "nbformat": 4,
 "nbformat_minor": 2
}
